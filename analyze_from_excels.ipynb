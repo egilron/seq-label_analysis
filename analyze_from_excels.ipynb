{
 "cells": [
  {
   "cell_type": "markdown",
   "metadata": {},
   "source": [
    "# Get config jsons from fine-tuning experiments and analyze\n",
    "\n",
    "Read the excel files created by the analyze_from_configs. Convert and other things that we can do directly from them\n"
   ]
  },
  {
   "cell_type": "code",
   "execution_count": 1,
   "metadata": {},
   "outputs": [],
   "source": [
    "import json, os, sys, io, shutil\n",
    "from pathlib import Path\n",
    "import pandas as pd\n",
    "from datetime import date\n",
    "from collections import Counter\n"
   ]
  },
  {
   "cell_type": "code",
   "execution_count": 5,
   "metadata": {},
   "outputs": [
    {
     "name": "stdout",
     "output_type": "stream",
     "text": [
      "['03121434_full-report.xlsx', '03121434_best-report.xlsx', '03121434_search-space.xlsx']\n"
     ]
    }
   ],
   "source": [
    "# Get timestamps and tasks\n",
    "xl_path = Path(\"excels\")\n",
    "\n",
    "name_filter = \"03121434\"\n",
    "excels = [x for x in xl_path.iterdir() if x.name.startswith(name_filter)]\n",
    "\n",
    "print([x.name for x in excels])\n",
    "\n"
   ]
  },
  {
   "cell_type": "code",
   "execution_count": 46,
   "metadata": {},
   "outputs": [
    {
     "name": "stdout",
     "output_type": "stream",
     "text": [
      "|    | model_name_or_path    | per_device_train_batch_size   | learning_rate   | num_train_epochs   |\n",
      "|---:|:----------------------|:------------------------------|:----------------|:-------------------|\n",
      "|  0 | NbAiLab/nb-bert-base  | 32.0                          | 1e-05           | 12.0               |\n",
      "|  1 | ltg/norbert3-large    | 64.0                          | 5e-05           |                    |\n",
      "|  2 | NbAiLab/nb-bert-large |                               |                 |                    |\n"
     ]
    }
   ],
   "source": [
    "search_space = [p for p in excels if \"search-space\" in p.name][0]\n",
    "search_space = pd.read_excel(search_space).fillna(\"\")\n",
    "search_space\n",
    "cols = [\"model_name_or_path\", \"per_device_train_batch_size\", \"learning_rate\", \"num_train_epochs\"]\n",
    "print(search_space[cols].to_markdown())"
   ]
  },
  {
   "cell_type": "code",
   "execution_count": 36,
   "metadata": {},
   "outputs": [
    {
     "name": "stdout",
     "output_type": "stream",
     "text": [
      "|           |    precision  |    recall  |    F1  |  support    |\n",
      "|:----------|--------------:|-----------:|-------:|:------------|\n",
      "| Neg       |         0.444 |      0.19  |  0.267 | 21          |\n",
      "| Neu       |         0.674 |      0.955 |  0.79  | 132         |\n",
      "| Pos       |         0.882 |      0.479 |  0.621 | 94          |\n",
      "| accuracy  |         0.709 |      0.709 |  0.709 |             |\n",
      "| macro avg |         0.667 |      0.541 |  0.559 | 247         |\n",
      "| w. avg    |         0.734 |      0.709 |  0.681 | 247         |\n"
     ]
    }
   ],
   "source": [
    "# Convert from latex to markdown\n",
    "ltbl = \"\"\" & precision & recall & F1 & support \\\\\n",
    "Neg & 0.444 & 0.190 & 0.267 & 21 \\\\\n",
    "Neu & 0.674 & 0.955 & 0.790 & 132 \\\\\n",
    "Pos & 0.882 & 0.479 & 0.621 & 94 \\\\\n",
    "accuracy & 0.709 & 0.709 & 0.709 &  \\\\\n",
    "macro avg & 0.667 & 0.541 & 0.559 & 247 \\\\\n",
    "w. avg & 0.734 & 0.709 & 0.681 & 247 \\\\\"\"\"\n",
    "ltxt = ltbl.replace(\"\\\\\",\"\").replace(\"&\", \",\").split(\"\\n\")\n",
    "cols = None\n",
    "rows = {}\n",
    "for i, l in enumerate(ltxt):\n",
    "    if i == 0:\n",
    "        cols = l.split(\",\")[-4:]\n",
    "    else:\n",
    "        li = l.split(\",\")\n",
    "        rows[li[0]] = li[1:]\n",
    "rows\n",
    "print(pd.DataFrame.from_dict(rows, orient=\"index\", columns=cols).to_markdown())"
   ]
  }
 ],
 "metadata": {
  "kernelspec": {
   "display_name": "phdev",
   "language": "python",
   "name": "python3"
  },
  "language_info": {
   "codemirror_mode": {
    "name": "ipython",
    "version": 3
   },
   "file_extension": ".py",
   "mimetype": "text/x-python",
   "name": "python",
   "nbconvert_exporter": "python",
   "pygments_lexer": "ipython3",
   "version": "3.9.18"
  },
  "orig_nbformat": 4
 },
 "nbformat": 4,
 "nbformat_minor": 2
}
