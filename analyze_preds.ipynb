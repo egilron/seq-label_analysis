{
 "cells": [
  {
   "cell_type": "markdown",
   "metadata": {},
   "source": [
    "## Compare and analyze TSA predictions \n",
    "Start with taking the best predictions with polarity, and score them for binary\n"
   ]
  },
  {
   "cell_type": "code",
   "execution_count": 8,
   "metadata": {},
   "outputs": [
    {
     "name": "stdout",
     "output_type": "stream",
     "text": [
      "1272 1272\n"
     ]
    }
   ],
   "source": [
    "import json, os, sys, io, shutil\n",
    "from pathlib import Path\n",
    "import tabulate\n",
    "import pandas as pd\n",
    "from datetime import date\n",
    "import zipfile\n",
    "import tqdm as notebook_tqdm\n",
    "\n",
    "from seqeval.metrics import classification_report\n",
    "from seqeval.metrics import f1_score\n",
    "from datasets import load_from_disk, load_dataset\n",
    "gold_binary = load_dataset(\"ltg/norec_tsa\")\n",
    "gold_binary = gold_binary[\"test\"][\"tsa_tags\"]\n",
    "gold_intense = load_dataset(\"ltg/norec_tsa\", \"intensity\")\n",
    "gold_intense = gold_intense[\"test\"][\"tsa_tags\"]\n",
    "print(len(gold_binary), len(gold_intense))"
   ]
  },
  {
   "cell_type": "code",
   "execution_count": 9,
   "metadata": {},
   "outputs": [],
   "source": [
    "preds_path = \"/home/egil/gits_wsl/seq-label-github/logs/predictions\"\n",
    "name_filter =  \"01191518_tsa-bin_NB-BERT_large_07-b.json\" # Best with intensity from 01191518\n",
    "name_filter =  \"lsa-polarity\"\n",
    "# jsons = [f for f in Path(preds_path).iterdir() if f.name.startswith(name_filter)  and  f.name.endswith(\"json\")]\n",
    "preds1 = json.loads(Path(preds_path, name_filter).read_text())\n",
    "\n"
   ]
  },
  {
   "cell_type": "code",
   "execution_count": 13,
   "metadata": {},
   "outputs": [
    {
     "name": "stdout",
     "output_type": "stream",
     "text": [
      "pred ['B-targ-Negative', 'B-targ-Positive', 'I-targ-Negative', 'I-targ-Positive', 'O']\n",
      "gold ['B-targ-Negative', 'B-targ-Positive', 'I-targ-Negative', 'I-targ-Positive', 'O']\n",
      "               precision    recall  f1-score   support\n",
      "\n",
      "targ-Negative     0.4648    0.3143    0.3750       210\n",
      "targ-Positive     0.5097    0.6019    0.5520       525\n",
      "\n",
      "    micro avg     0.5013    0.5197    0.5104       735\n",
      "    macro avg     0.4872    0.4581    0.4635       735\n",
      " weighted avg     0.4969    0.5197    0.5014       735\n",
      "\n"
     ]
    }
   ],
   "source": [
    "# Straight forwards binary dataset evaluation\n",
    "preds = json.loads(Path( \"/home/egil/gits_wsl/seq-label-github/logs/predictions/01191518_tsa-bin_NorBERT_3_large_37_b.json\").read_text())\n",
    "golds = gold_binary\n",
    "assert all([len(p)==len(g)for p,g in zip(preds,golds)]), \"Something muffins\"\n",
    "\n",
    "p_tags = sorted(list(set([t for s in preds for t in s ])))\n",
    "g_tags =   sorted(list(set([t for s in golds for t in s ])))\n",
    "\n",
    "\n",
    "print(\"pred\",p_tags)\n",
    "print(\"gold\", g_tags)\n",
    "print(classification_report(golds, preds, digits=4, zero_division=0))"
   ]
  },
  {
   "cell_type": "code",
   "execution_count": 16,
   "metadata": {},
   "outputs": [
    {
     "name": "stdout",
     "output_type": "stream",
     "text": [
      "pred ['', 'Negative', 'Positive']\n",
      "gold ['', 'Negative-1', 'Negative-2', 'Negative-3', 'Positive-1', 'Positive-2', 'Positive-3']\n",
      "                 precision    recall  f1-score   support\n",
      "\n",
      "  targ-Negative     0.0000    0.0000    0.0000         0\n",
      "targ-Negative-1     0.0000    0.0000    0.0000        38\n",
      "targ-Negative-2     0.0000    0.0000    0.0000       126\n",
      "targ-Negative-3     0.0000    0.0000    0.0000        46\n",
      "  targ-Positive     0.0000    0.0000    0.0000         0\n",
      "targ-Positive-1     0.0000    0.0000    0.0000        32\n",
      "targ-Positive-2     0.0000    0.0000    0.0000       235\n",
      "targ-Positive-3     0.0000    0.0000    0.0000       258\n",
      "\n",
      "      micro avg     0.0000    0.0000    0.0000       735\n",
      "      macro avg     0.0000    0.0000    0.0000       735\n",
      "   weighted avg     0.0000    0.0000    0.0000       735\n",
      "\n"
     ]
    },
    {
     "data": {
      "text/plain": [
       "{'B-targ-Negative',\n",
       " 'B-targ-Positive',\n",
       " 'I-targ-Negative',\n",
       " 'I-targ-Positive',\n",
       " 'O'}"
      ]
     },
     "execution_count": 16,
     "metadata": {},
     "output_type": "execute_result"
    }
   ],
   "source": [
    "# gold_intense_path = \"/home/egil/gits_wsl/seq-label-github/data/tsa_intensity\"\n",
    "# gold_binary_path = \"/home/egil/gits_wsl/seq-label-github/data/tsa_binary\"\n",
    "\n",
    "\n",
    "assert all([len(p)==len(g)for p,g in zip(preds1,gold_binary)]), \"Something muffins\"\n",
    "\n",
    "p_tags = sorted(list(set([t[7:] for s in preds1 for t in s ])))\n",
    "g_tags =   sorted(list(set([t[7:] for s in gold_intense for t in s ])))\n",
    "print(\"pred\",p_tags)\n",
    "print(\"gold\", g_tags)\n",
    "print(classification_report(gold_intense, preds1, digits=4, zero_division=0))\n",
    "\n",
    "set([t for s in preds1 for t in s ])"
   ]
  },
  {
   "cell_type": "code",
   "execution_count": 12,
   "metadata": {},
   "outputs": [
    {
     "name": "stdout",
     "output_type": "stream",
     "text": [
      "               precision    recall  f1-score   support\n",
      "\n",
      "targ-Negative     0.4825    0.3286    0.3909       210\n",
      "targ-Positive     0.5418    0.5676    0.5544       525\n",
      "\n",
      "    micro avg     0.5296    0.4993    0.5140       735\n",
      "    macro avg     0.5122    0.4481    0.4727       735\n",
      " weighted avg     0.5249    0.4993    0.5077       735\n",
      "\n"
     ]
    }
   ],
   "source": [
    "pred_bin_from_int = [[t[:-2]  if len(t) > 2 else t for t in s] for s in preds1] \n",
    "\n",
    "print(classification_report(gold_binary, pred_bin_from_int, digits=4, zero_division=0))"
   ]
  },
  {
   "cell_type": "code",
   "execution_count": 13,
   "metadata": {},
   "outputs": [
    {
     "name": "stdout",
     "output_type": "stream",
     "text": [
      "               precision    recall  f1-score   support\n",
      "\n",
      "targ-Negative     0.4319    0.4381    0.4350       210\n",
      "targ-Positive     0.5362    0.5790    0.5568       525\n",
      "\n",
      "    micro avg     0.5077    0.5388    0.5228       735\n",
      "    macro avg     0.4840    0.5086    0.4959       735\n",
      " weighted avg     0.5064    0.5388    0.5220       735\n",
      "\n"
     ]
    }
   ],
   "source": [
    "# Compare with predictions from best binary model\n",
    "# 01191518_tsa-bin_NB-BERT_large_07.json \n",
    "preds2 = json.loads(Path(preds_path, \"01191518_tsa-bin_NB-BERT_large_07.json\").read_text())\n",
    "print(classification_report(gold_binary, preds2, digits=4, zero_division=0))"
   ]
  }
 ],
 "metadata": {
  "kernelspec": {
   "display_name": "phdev",
   "language": "python",
   "name": "python3"
  },
  "language_info": {
   "codemirror_mode": {
    "name": "ipython",
    "version": 3
   },
   "file_extension": ".py",
   "mimetype": "text/x-python",
   "name": "python",
   "nbconvert_exporter": "python",
   "pygments_lexer": "ipython3",
   "version": "3.9.18"
  }
 },
 "nbformat": 4,
 "nbformat_minor": 2
}
